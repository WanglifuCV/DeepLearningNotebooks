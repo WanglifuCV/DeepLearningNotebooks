{
 "cells": [
  {
   "cell_type": "markdown",
   "metadata": {},
   "source": [
    "本程序是想让Tensorflow实现一下学习XOR数据集"
   ]
  },
  {
   "cell_type": "code",
   "execution_count": 1,
   "metadata": {},
   "outputs": [],
   "source": [
    "import tensorflow as tf\n",
    "import numpy as np\n",
    "import os\n",
    "import matplotlib.pyplot as plt\n",
    "os.environ['CUDA_VISIBLE_DEVICES'] = '0'"
   ]
  },
  {
   "cell_type": "markdown",
   "metadata": {},
   "source": [
    "XOR数据集，前2列为坐标点，最后一列为value"
   ]
  },
  {
   "cell_type": "code",
   "execution_count": 2,
   "metadata": {},
   "outputs": [
    {
     "name": "stdout",
     "output_type": "stream",
     "text": [
      "Input layer :  Tensor(\"Input-X:0\", shape=(?, 2), dtype=float32)\n",
      "Input label :  Tensor(\"Input-Label:0\", shape=(?, 1), dtype=float32)\n",
      "Layer 1 output :  Tensor(\"add:0\", shape=(?, 2), dtype=float32)\n",
      "Layer 2 output :  Tensor(\"add_1:0\", shape=(?, 1), dtype=float32)\n",
      "Loss0 :  Tensor(\"Square:0\", shape=(?, 1), dtype=float32)\n",
      "Final Loss :  Tensor(\"Mean:0\", shape=(), dtype=float32)\n"
     ]
    }
   ],
   "source": [
    "graph1 = tf.Graph()\n",
    "with graph1.as_default():\n",
    "    input_X = tf.placeholder(dtype=tf.float32, shape=[None, 2], name='Input-X')\n",
    "    input_Y = tf.placeholder(dtype=tf.float32, shape=[None, 1], name='Input-Label')\n",
    "\n",
    "    print('Input layer : ', input_X)\n",
    "    print('Input label : ', input_Y)\n",
    "\n",
    "    W1 = tf.get_variable(name='W1', initializer=tf.truncated_normal(shape=(2, 2), mean=0.0, stddev=0.1))\n",
    "    b1 = tf.get_variable(name='b1', initializer=tf.truncated_normal(shape=(2,), mean=0.0, stddev=0.1))\n",
    "\n",
    "    W2 = tf.get_variable(name='W2', initializer=tf.truncated_normal(shape=(2, 1), mean=0.0, stddev=0.1))\n",
    "    b2 = tf.get_variable(name='b2', initializer=tf.truncated_normal(shape=(1,), mean=0.0, stddev=0.1))\n",
    "\n",
    "    predict = tf.matmul(input_X, W1) + b1\n",
    "    print('Layer 1 output : ', predict)\n",
    "    predict = tf.nn.relu(predict)\n",
    "    predict = tf.matmul(predict, W2) + b2\n",
    "    print('Layer 2 output : ', predict)\n",
    "\n",
    "    loss0 = tf.square(predict - input_Y)\n",
    "    print('Loss0 : ', loss0)\n",
    "\n",
    "    loss = tf.reduce_mean(loss0)\n",
    "    print('Final Loss : ', loss)\n",
    "\n",
    "    optimizer = tf.train.MomentumOptimizer(learning_rate=0.01, momentum=0.9)\n",
    "    train_op = optimizer.minimize(loss)"
   ]
  },
  {
   "cell_type": "code",
   "execution_count": 3,
   "metadata": {},
   "outputs": [],
   "source": [
    "def train(graph):\n",
    "    X = np.array([\n",
    "        [0, 0],\n",
    "        [1, 0],\n",
    "        [0, 1],\n",
    "        [1, 1]\n",
    "    ])\n",
    "    Y = np.array([0, 1, 1, 0]).reshape((4, 1))\n",
    "    loss_all = []\n",
    "    with graph.as_default():\n",
    "        init = tf.global_variables_initializer()\n",
    "        with tf.Session() as sess:\n",
    "            sess.run(init)\n",
    "            for n in range(MAX_STEPS):\n",
    "                feed_dict = {input_X: X, input_Y: Y}\n",
    "                _, loss_step = sess.run([train_op, loss], feed_dict=feed_dict)\n",
    "                loss_all.append(loss_step)\n",
    "#                 print('STEP : ', n, loss_step)\n",
    "\n",
    "            print('W1', sess.run(W1))\n",
    "            print('b1', sess.run(b1))\n",
    "            print('W2', sess.run(W2))\n",
    "            print('b2', sess.run(b2))\n",
    "            print('Predict', sess.run(predict, feed_dict={input_X: X}))\n",
    "    return loss_all"
   ]
  },
  {
   "cell_type": "markdown",
   "metadata": {},
   "source": [
    "graph1表示的计算图1并不总能够收敛。下面是收敛的情况。"
   ]
  },
  {
   "cell_type": "code",
   "execution_count": 4,
   "metadata": {},
   "outputs": [
    {
     "name": "stdout",
     "output_type": "stream",
     "text": [
      "W1 [[-0.8440108   0.8457995 ]\n",
      " [ 0.84403497 -0.8458179 ]]\n",
      "b1 [-2.4149156e-05 -4.4085755e-05]\n",
      "W2 [[1.1848189]\n",
      " [1.182375 ]]\n",
      "b2 [-1.3642075e-11]\n",
      "Predict [[-1.3642075e-11]\n",
      " [ 1.0000000e+00]\n",
      " [ 9.9999994e-01]\n",
      " [ 5.9617840e-08]]\n",
      "Final loss :  1.7767494e-15\n"
     ]
    },
    {
     "data": {
      "text/plain": [
       "[<matplotlib.lines.Line2D at 0x7fd9e408b128>]"
      ]
     },
     "execution_count": 4,
     "metadata": {},
     "output_type": "execute_result"
    },
    {
     "data": {
      "image/png": "[encoded data removed]",
      "text/plain": [
       "<Figure size 432x288 with 1 Axes>"
      ]
     },
     "metadata": {
      "needs_background": "light"
     },
     "output_type": "display_data"
    }
   ],
   "source": [
    "MAX_STEPS = 1000\n",
    "loss_all = train(graph1)\n",
    "print(\"Final loss : \", loss_all[-1])\n",
    "plt.plot(loss_all)"
   ]
  },
  {
   "cell_type": "markdown",
   "metadata": {},
   "source": [
    "下面是不收敛的情况。"
   ]
  },
  {
   "cell_type": "code",
   "execution_count": 5,
   "metadata": {},
   "outputs": [
    {
     "name": "stdout",
     "output_type": "stream",
     "text": [
      "W1 [[-0.12967941  0.07772257]\n",
      " [-0.03664541 -0.03819619]]\n",
      "b1 [-0.04820965 -0.12394394]\n",
      "W2 [[-0.16450928]\n",
      " [-0.06491105]]\n",
      "b2 [0.5]\n",
      "Predict [[0.5]\n",
      " [0.5]\n",
      " [0.5]\n",
      " [0.5]]\n",
      "Final loss :  0.25\n"
     ]
    },
    {
     "data": {
      "text/plain": [
       "[<matplotlib.lines.Line2D at 0x7fd9e4079e80>]"
      ]
     },
     "execution_count": 5,
     "metadata": {},
     "output_type": "execute_result"
    },
    {
     "data": {
      "image/png": "[encoded data removed]",
      "text/plain": [
       "<Figure size 432x288 with 1 Axes>"
      ]
     },
     "metadata": {
      "needs_background": "light"
     },
     "output_type": "display_data"
    }
   ],
   "source": [
    "MAX_STEPS = 1000\n",
    "loss_all = train(graph1)\n",
    "print(\"Final loss : \", loss_all[-1])\n",
    "plt.plot(loss_all)"
   ]
  },
  {
   "cell_type": "markdown",
   "metadata": {},
   "source": [
    "再试一次"
   ]
  },
  {
   "cell_type": "code",
   "execution_count": 6,
   "metadata": {},
   "outputs": [
    {
     "name": "stdout",
     "output_type": "stream",
     "text": [
      "W1 [[-0.8448966   0.8501119 ]\n",
      " [ 0.84487706 -0.84946465]]\n",
      "b1 [-7.206519e-05 -7.568001e-04]\n",
      "W2 [[1.1837051]\n",
      " [1.1773639]]\n",
      "b2 [2.8655924e-14]\n",
      "Predict [[2.8655924e-14]\n",
      " [1.0000000e+00]\n",
      " [1.0000000e+00]\n",
      " [2.8655924e-14]]\n",
      "Final loss :  4.1375933e-28\n"
     ]
    },
    {
     "data": {
      "text/plain": [
       "[<matplotlib.lines.Line2D at 0x7fd9dc0ebf28>]"
      ]
     },
     "execution_count": 6,
     "metadata": {},
     "output_type": "execute_result"
    },
    {
     "data": {
      "image/png": "[encoded data removed]",
      "text/plain": [
       "<Figure size 432x288 with 1 Axes>"
      ]
     },
     "metadata": {
      "needs_background": "light"
     },
     "output_type": "display_data"
    }
   ],
   "source": [
    "MAX_STEPS = 1000\n",
    "loss_all = train(graph1)\n",
    "print(\"Final loss : \", loss_all[-1])\n",
    "plt.plot(loss_all)"
   ]
  },
  {
   "cell_type": "code",
   "execution_count": null,
   "metadata": {},
   "outputs": [],
   "source": []
  }
 ],
 "metadata": {
  "kernelspec": {
   "display_name": "Python 3",
   "language": "python",
   "name": "python3"
  },
  "language_info": {
   "codemirror_mode": {
    "name": "ipython",
    "version": 3
   },
   "file_extension": ".py",
   "mimetype": "text/x-python",
   "name": "python",
   "nbconvert_exporter": "python",
   "pygments_lexer": "ipython3",
   "version": "3.5.2"
  }
 },
 "nbformat": 4,
 "nbformat_minor": 2
}
